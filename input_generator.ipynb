{
 "cells": [
  {
   "cell_type": "code",
   "execution_count": 4,
   "metadata": {},
   "outputs": [],
   "source": [
    "import numpy as np"
   ]
  },
  {
   "cell_type": "markdown",
   "metadata": {},
   "source": [
    "### Script to convert from 16 bit fixed point representation to Floating Point Number"
   ]
  },
  {
   "cell_type": "code",
   "execution_count": 1,
   "metadata": {},
   "outputs": [
    {
     "data": {
      "text/plain": [
       "-4.0"
      ]
     },
     "execution_count": 1,
     "metadata": {},
     "output_type": "execute_result"
    }
   ],
   "source": [
    "def convert_fixed_point_to_float(str1, length = 16):\n",
    "    if(length != len(str1)):\n",
    "        raise ValueError(\"Length of the string should be equal to the length provided\")\n",
    "    s, f = float(0), float(0)\n",
    "    for i in range(0, len(str1)):\n",
    "        if(i == 0):\n",
    "            s += int(str1[i]) * (-1) * (2 ** 7)\n",
    "        elif(i <= 7):\n",
    "            s += int(str1[i]) * (2 ** (7 - i))\n",
    "        else:\n",
    "            f += int(str1[i]) * (1/ (2 ** (i - 7)))\n",
    "            # s += int(str1[i]) * (2 ** (15 - i))\n",
    "    return s + f\n"
   ]
  },
  {
   "cell_type": "markdown",
   "metadata": {},
   "source": [
    "### FFT"
   ]
  },
  {
   "cell_type": "code",
   "execution_count": 6,
   "metadata": {},
   "outputs": [
    {
     "name": "stdout",
     "output_type": "stream",
     "text": [
      "[28.+0.j         -4.+9.65685425j -4.+4.j         -4.+1.65685425j\n",
      " -4.+0.j         -4.-1.65685425j -4.-4.j         -4.-9.65685425j]\n"
     ]
    }
   ],
   "source": [
    "print(np.fft.fft([0,1,2,3,4,5,6,7]))"
   ]
  }
 ],
 "metadata": {
  "kernelspec": {
   "display_name": "Python 3",
   "language": "python",
   "name": "python3"
  },
  "language_info": {
   "codemirror_mode": {
    "name": "ipython",
    "version": 3
   },
   "file_extension": ".py",
   "mimetype": "text/x-python",
   "name": "python",
   "nbconvert_exporter": "python",
   "pygments_lexer": "ipython3",
   "version": "3.11.5"
  }
 },
 "nbformat": 4,
 "nbformat_minor": 2
}
