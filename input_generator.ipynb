{
 "cells": [
  {
   "cell_type": "code",
   "execution_count": 1,
   "metadata": {},
   "outputs": [],
   "source": [
    "import math"
   ]
  },
  {
   "cell_type": "code",
   "execution_count": 3,
   "metadata": {},
   "outputs": [],
   "source": [
    "def signbit(num):\n",
    "    if(num < 0):\n",
    "        return '1'\n",
    "    else:\n",
    "        return '0'\n",
    "def decimal(num, n_bits):\n",
    "    k, idx = abs(round(num)), 0\n",
    "    binary_decimal = format(k, f'0{n_bits}b')\n",
    "    if(num < 0):\n",
    "        flipped = ''.join(str(1 - int(x)) for x in binary_decimal)\n",
    "        binary_decimal = format((int(flipped, 2) + 1), '08b')\n",
    "    return binary_decimal\n",
    "    \n",
    "def float_to(num, n_frac):\n",
    "    k = abs(math.floor(num * (2 ** n_frac)))\n",
    "    float_binary = bin(k)[2:]\n",
    "    return float_binary[len(float_binary): len(float_binary) - n_frac - 1: -1]\n",
    "def float_to_fixed_point(num, n_bits, n_frac):\n",
    "    decimal_part = decimal(num, n_bits)\n",
    "    float_part = float_to(num, n_frac)\n",
    "    return  decimal_part[0] + \"_\" + decimal_part[1:] + \"_\" + float_part , decimal_part[0] + decimal_part[1:] + float_part\n"
   ]
  },
  {
   "cell_type": "code",
   "execution_count": 4,
   "metadata": {},
   "outputs": [
    {
     "name": "stdout",
     "output_type": "stream",
     "text": [
      "000000000\n",
      "0000000100000000\n",
      "0000001000000000\n",
      "0000001100000000\n",
      "0000010000000000\n",
      "0000010100000000\n",
      "0000011000000000\n",
      "0000011100000000\n"
     ]
    }
   ],
   "source": [
    "for i in range(0, 8):\n",
    "    print(float_to_fixed_point(i, 8, 8)[1])"
   ]
  },
  {
   "cell_type": "code",
   "execution_count": 5,
   "metadata": {},
   "outputs": [
    {
     "name": "stdout",
     "output_type": "stream",
     "text": [
      "6.0 0.19921875\n"
     ]
    },
    {
     "data": {
      "text/plain": [
       "6.19921875"
      ]
     },
     "execution_count": 5,
     "metadata": {},
     "output_type": "execute_result"
    }
   ],
   "source": [
    "def fixed_to_float(fix_point):\n",
    "    sign, decimal, float_pt = fix_point.split('_')\n",
    "    decimal_value = float(-int(sign) * (2**7) + int(decimal, 2))\n",
    "    float_value = float(int(float_pt, 2) / (2**8))\n",
    "    print(decimal_value, float_value)\n",
    "    return decimal_value + float_value\n",
    "\n",
    "fixed_to_float(float_to_fixed_point(5.8, 8, 8))"
   ]
  }
 ],
 "metadata": {
  "kernelspec": {
   "display_name": "Python 3",
   "language": "python",
   "name": "python3"
  },
  "language_info": {
   "codemirror_mode": {
    "name": "ipython",
    "version": 3
   },
   "file_extension": ".py",
   "mimetype": "text/x-python",
   "name": "python",
   "nbconvert_exporter": "python",
   "pygments_lexer": "ipython3",
   "version": "3.11.5"
  }
 },
 "nbformat": 4,
 "nbformat_minor": 2
}
