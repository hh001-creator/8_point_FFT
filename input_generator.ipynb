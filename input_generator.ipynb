{
 "cells": [
  {
   "cell_type": "code",
   "execution_count": 3,
   "metadata": {},
   "outputs": [],
   "source": [
    "import math\n",
    "import numpy as np"
   ]
  },
  {
   "cell_type": "code",
   "execution_count": 6,
   "metadata": {},
   "outputs": [],
   "source": [
    "def signbit(num):\n",
    "    if(num < 0):\n",
    "        return '1'\n",
    "    else:\n",
    "        return '0'\n",
    "def decimal(num, n_bits):\n",
    "    k, idx = abs(round(num)), 0\n",
    "    binary_decimal = format(k, f'0{n_bits}b')\n",
    "    if(num < 0):\n",
    "        flipped = ''.join(str(1 - int(x)) for x in binary_decimal)\n",
    "        binary_decimal = format((int(flipped, 2) + 1), '08b')\n",
    "    return binary_decimal\n",
    "    \n",
    "def float_to(num, n_frac):\n",
    "    k = abs(math.floor(num * (2 ** n_frac)))\n",
    "    float_binary = bin(k)[2:]\n",
    "    return float_binary[len(float_binary): len(float_binary) - n_frac - 1: -1]\n",
    "def float_to_fixed_point(num, n_bits, n_frac):\n",
    "    decimal_part = decimal(num, n_bits)\n",
    "    float_part = float_to(num, n_frac)\n",
    "    return  decimal_part[0] + \"_\" + decimal_part[1:] + \"_\" + float_part , decimal_part[0] + decimal_part[1:] + float_part\n"
   ]
  },
  {
   "cell_type": "code",
   "execution_count": 16,
   "metadata": {},
   "outputs": [
    {
     "name": "stdout",
     "output_type": "stream",
     "text": [
      "-6.0 0.5859375 -5.4140625 16\n"
     ]
    }
   ],
   "source": [
    "str1 = \"1111101010010110\"\n",
    "s, f = float(0), float(0)\n",
    "for i in range(0, len(str1)):\n",
    "    if(i == 0):\n",
    "        s += int(str1[i]) * (-1) * (2 ** 7)\n",
    "    elif(i <= 7):\n",
    "        s += int(str1[i]) * (2 ** (7 - i))\n",
    "    else:\n",
    "        f += int(str1[i]) * (1/ (2 ** (i - 7)))\n",
    "        # s += int(str1[i]) * (2 ** (15 - i))\n",
    "\n",
    "print(s, f, s+f, len(str1))"
   ]
  },
  {
   "cell_type": "code",
   "execution_count": 84,
   "metadata": {},
   "outputs": [
    {
     "name": "stdout",
     "output_type": "stream",
     "text": [
      "-1.0 0.3359375\n"
     ]
    },
    {
     "data": {
      "text/plain": [
       "'0000001000000000'"
      ]
     },
     "execution_count": 84,
     "metadata": {},
     "output_type": "execute_result"
    }
   ],
   "source": [
    "def fixed_to_float(fix_point):\n",
    "    sign, decimal, float_pt = fix_point.split('_')\n",
    "    decimal_value = float(-int(sign) * (2**7) + int(decimal, 2))\n",
    "    float_value = float(int(float_pt, 2) / (2**8))\n",
    "    print(decimal_value, float_value)\n",
    "    return decimal_value + float_value\n",
    "\n",
    "fixed_to_float(float_to_fixed_point(-1.414, 8, 8)[0])\n",
    "float_to_fixed_point(2, 8, 8)[1]"
   ]
  },
  {
   "cell_type": "code",
   "execution_count": 14,
   "metadata": {},
   "outputs": [
    {
     "data": {
      "text/plain": [
       "array([-2.        +0.j        , -2.58578644-1.41421356j,\n",
       "       -4.        -2.j        , -5.41421356-1.41421356j,\n",
       "       -6.        +0.j        , -5.41421356+1.41421356j,\n",
       "       -4.        +2.j        , -2.58578644+1.41421356j])"
      ]
     },
     "execution_count": 14,
     "metadata": {},
     "output_type": "execute_result"
    }
   ],
   "source": [
    "np.fft.fft([-4, 2, 0, 0 ,0, 0, 0, 0])"
   ]
  }
 ],
 "metadata": {
  "kernelspec": {
   "display_name": "Python 3",
   "language": "python",
   "name": "python3"
  },
  "language_info": {
   "codemirror_mode": {
    "name": "ipython",
    "version": 3
   },
   "file_extension": ".py",
   "mimetype": "text/x-python",
   "name": "python",
   "nbconvert_exporter": "python",
   "pygments_lexer": "ipython3",
   "version": "3.9.16"
  }
 },
 "nbformat": 4,
 "nbformat_minor": 2
}
